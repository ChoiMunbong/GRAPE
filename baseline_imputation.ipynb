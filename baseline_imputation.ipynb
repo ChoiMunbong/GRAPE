{
 "cells": [
  {
   "cell_type": "code",
   "execution_count": 87,
   "metadata": {},
   "outputs": [],
   "source": [
    "from fancyimpute import SimpleFill, KNN, IterativeImputer, IterativeSVD\n",
    "import numpy as np\n",
    "import pandas as pd\n",
    "from sklearn import preprocessing"
   ]
  },
  {
   "cell_type": "code",
   "execution_count": 134,
   "metadata": {},
   "outputs": [],
   "source": [
    "def construct_missing_X(missing_list, df):\n",
    "    nrow, ncol = df.shape\n",
    "    data_incomplete = np.zeros((nrow, ncol))\n",
    "    data_complete = np.zeros((nrow, ncol))\n",
    "    missing_ind = missing_list.reshape(nrow, ncol)\n",
    "    for i in range(nrow):\n",
    "        for j in range(ncol):\n",
    "            data_complete[i,j] = df.iloc[i,j]\n",
    "            if missing_ind[i,j]:\n",
    "                data_incomplete[i,j] = df.iloc[i,j]\n",
    "            else:\n",
    "                data_incomplete[i,j] = np.NaN\n",
    "    return data_complete, data_incomplete\n",
    "\n",
    "def impute_baselines(df, missing):\n",
    "    X, X_incomplete = construct_missing_X(missing, df)\n",
    "    n_missing = len(missing) - sum(missing)\n",
    "    \n",
    "    X_filled_mean = SimpleFill().fit_transform(X_incomplete)\n",
    "    MAE_mean = sum(sum(abs(X_filled_mean - X))) / n_missing\n",
    "    \n",
    "    X_filled_knn = KNN(k=3, verbose=False).fit_transform(X_incomplete)\n",
    "    diff_knn = X - X_filled_knn\n",
    "    MAE_knn = sum(sum(abs(diff_knn))) / n_missing\n",
    "    \n",
    "    X_filled_svd = IterativeSVD(rank=9,verbose=False).fit_transform(X_incomplete)\n",
    "    MAE_svd = sum(sum(abs(X_filled_svd - X))) / n_missing\n",
    "    \n",
    "    X_filled_mice = IterativeImputer().fit_transform(X_incomplete)\n",
    "    MAE_mice = sum(sum(abs(X_filled_mice - X))) / n_missing\n",
    "    \n",
    "    print(\"Imputation methods and MAE\")\n",
    "    print(\"Mean: \"+str(MAE_mean))\n",
    "    print(\"KNN: \"+str(MAE_knn))\n",
    "    print(\"SVD: \"+str(MAE_svd))\n",
    "    print(\"MICE: \"+str(MAE_mice))    "
   ]
  },
  {
   "cell_type": "code",
   "execution_count": 111,
   "metadata": {},
   "outputs": [
    {
     "data": {
      "text/plain": [
       "'/Users/daisyding/Desktop/MDI_GNN'"
      ]
     },
     "execution_count": 111,
     "metadata": {},
     "output_type": "execute_result"
    }
   ],
   "source": [
    "pwd()"
   ]
  },
  {
   "cell_type": "code",
   "execution_count": 123,
   "metadata": {},
   "outputs": [
    {
     "name": "stdout",
     "output_type": "stream",
     "text": [
      "Imputation methods and MAE\n",
      "Mean: 0.13405062374499693\n",
      "KNN: 0.06454642243109601\n",
      "MICE: 0.059375814452296324\n"
     ]
    }
   ],
   "source": [
    "missing = np.load(\"./Data/uci/pks/len4290rate0.7seed0.npy\")\n",
    "df = pd.read_csv(\"./parkinson.csv\")\n",
    "impute_baselines(df, missing)"
   ]
  },
  {
   "cell_type": "code",
   "execution_count": 125,
   "metadata": {},
   "outputs": [
    {
     "data": {
      "text/plain": [
       "(195, 22)"
      ]
     },
     "execution_count": 125,
     "metadata": {},
     "output_type": "execute_result"
    }
   ],
   "source": [
    "df.shape"
   ]
  },
  {
   "cell_type": "code",
   "execution_count": null,
   "metadata": {},
   "outputs": [],
   "source": []
  },
  {
   "cell_type": "code",
   "execution_count": 113,
   "metadata": {},
   "outputs": [],
   "source": [
    "def process(df):\n",
    "    df = df.drop(df.columns[[0, 1, 2]], axis=1)\n",
    "    nrow, ncol = df.shape\n",
    "    for i in range(nrow):\n",
    "        for j in range(ncol):\n",
    "            if df.iloc[i,j] == \"?\":\n",
    "                df.iloc[i, j] = 0\n",
    "                \n",
    "    x = df.values\n",
    "    min_max_scaler = preprocessing.MinMaxScaler()\n",
    "    x_scaled = min_max_scaler.fit_transform(x)\n",
    "    df_normalized = pd.DataFrame(x_scaled)\n",
    "    return df_normalized"
   ]
  },
  {
   "cell_type": "code",
   "execution_count": 114,
   "metadata": {},
   "outputs": [],
   "source": [
    "missing = np.load(\"./Data/uci/cancer/len6336rate0.7seed0.npy\")"
   ]
  },
  {
   "cell_type": "code",
   "execution_count": 115,
   "metadata": {},
   "outputs": [],
   "source": [
    "df = pd.read_csv('https://archive.ics.uci.edu/ml/machine-learning-databases/breast-cancer-wisconsin/wpbc.data',\n",
    "                header=None)\n",
    "df = process(df)"
   ]
  },
  {
   "cell_type": "code",
   "execution_count": 116,
   "metadata": {},
   "outputs": [
    {
     "name": "stdout",
     "output_type": "stream",
     "text": [
      "Imputation methods and MAE\n",
      "Mean: 0.13044041684456995\n",
      "KNN: 0.08768465393524684\n",
      "SVD: 0.07604318196034111\n",
      "MICE: 0.055874663004220185\n"
     ]
    },
    {
     "name": "stderr",
     "output_type": "stream",
     "text": [
      "/miniconda3/envs/graph/lib/python3.7/site-packages/sklearn/impute/_iterative.py:603: ConvergenceWarning: [IterativeImputer] Early stopping criterion not reached.\n",
      "  \" reached.\", ConvergenceWarning)\n"
     ]
    }
   ],
   "source": [
    "impute_baselines(df, missing)"
   ]
  },
  {
   "cell_type": "code",
   "execution_count": null,
   "metadata": {},
   "outputs": [],
   "source": []
  },
  {
   "cell_type": "code",
   "execution_count": 117,
   "metadata": {},
   "outputs": [
    {
     "name": "stdout",
     "output_type": "stream",
     "text": [
      "Imputation methods and MAE\n",
      "Mean: 0.1778604781298496\n",
      "KNN: 0.09068781898034092\n",
      "SVD: 0.17754722699166395\n",
      "MICE: 0.12474540943543222\n"
     ]
    },
    {
     "name": "stderr",
     "output_type": "stream",
     "text": [
      "/miniconda3/envs/graph/lib/python3.7/site-packages/sklearn/impute/_iterative.py:603: ConvergenceWarning: [IterativeImputer] Early stopping criterion not reached.\n",
      "  \" reached.\", ConvergenceWarning)\n"
     ]
    }
   ],
   "source": [
    "missing = np.load(\"./Data/uci/housing/len6578rate0.7seed0.npy\")\n",
    "df = pd.read_csv(\"./housing.csv\")\n",
    "impute_baselines(df, missing)"
   ]
  },
  {
   "cell_type": "code",
   "execution_count": 135,
   "metadata": {},
   "outputs": [
    {
     "name": "stdout",
     "output_type": "stream",
     "text": [
      "Imputation methods and MAE\n",
      "Mean: 0.09321925529574956\n",
      "KNN: 0.07938734915204612\n",
      "SVD: 0.09825681075273587\n",
      "MICE: 0.07703349438628111\n"
     ]
    },
    {
     "name": "stderr",
     "output_type": "stream",
     "text": [
      "/miniconda3/envs/graph/lib/python3.7/site-packages/sklearn/impute/_iterative.py:603: ConvergenceWarning: [IterativeImputer] Early stopping criterion not reached.\n",
      "  \" reached.\", ConvergenceWarning)\n"
     ]
    }
   ],
   "source": [
    "missing = np.load(\"./Data/uci/wine/len15990rate0.7seed0.npy\")\n",
    "df = pd.read_csv(\"./wine.csv\")\n",
    "impute_baselines(df, missing)"
   ]
  },
  {
   "cell_type": "code",
   "execution_count": null,
   "metadata": {},
   "outputs": [],
   "source": []
  }
 ],
 "metadata": {
  "kernelspec": {
   "display_name": "graph",
   "language": "python",
   "name": "graph"
  },
  "language_info": {
   "codemirror_mode": {
    "name": "ipython",
    "version": 3
   },
   "file_extension": ".py",
   "mimetype": "text/x-python",
   "name": "python",
   "nbconvert_exporter": "python",
   "pygments_lexer": "ipython3",
   "version": "3.7.4"
  }
 },
 "nbformat": 4,
 "nbformat_minor": 2
}
